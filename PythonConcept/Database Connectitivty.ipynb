{
 "cells": [
  {
   "cell_type": "markdown",
   "metadata": {},
   "source": [
    "Databse Connectivity Error"
   ]
  },
  {
   "cell_type": "code",
   "execution_count": 9,
   "metadata": {},
   "outputs": [
    {
     "data": {
      "text/plain": [
       "<sqlite3.Cursor at 0x1d66ad33ea0>"
      ]
     },
     "execution_count": 9,
     "metadata": {},
     "output_type": "execute_result"
    }
   ],
   "source": [
    "#sqlite3->connect->execute->commit command\n",
    "\n",
    "import sqlite3\n",
    "#connecting with databse\n",
    "db=sqlite3.connect('myDatabse.db')\n",
    "#drop table if already exist using execute method\n",
    "db.execute(\"drop table if exists grades1\")\n",
    "#creat table as requireent\n",
    "db.execute(\"Create table grades1(id int,name text,score int)\")"
   ]
  },
  {
   "cell_type": "code",
   "execution_count": 4,
   "metadata": {},
   "outputs": [
    {
     "data": {
      "text/plain": [
       "<sqlite3.Cursor at 0x1d66ad33960>"
      ]
     },
     "execution_count": 4,
     "metadata": {},
     "output_type": "execute_result"
    }
   ],
   "source": [
    "db.execute(\"insert into grades1(id,name,score) values(101,'John',99)\")"
   ]
  },
  {
   "cell_type": "code",
   "execution_count": 6,
   "metadata": {},
   "outputs": [
    {
     "data": {
      "text/plain": [
       "<sqlite3.Cursor at 0x1d66ad33c70>"
      ]
     },
     "execution_count": 6,
     "metadata": {},
     "output_type": "execute_result"
    }
   ],
   "source": [
    "db.execute(\"insert into grades1(id,name,score) values(102,'Gary',99)\")"
   ]
  },
  {
   "cell_type": "code",
   "execution_count": 7,
   "metadata": {},
   "outputs": [
    {
     "data": {
      "text/plain": [
       "<sqlite3.Cursor at 0x1d66ad33f10>"
      ]
     },
     "execution_count": 7,
     "metadata": {},
     "output_type": "execute_result"
    }
   ],
   "source": [
    "db.execute(\"insert into grades1(id,name,score) values(103,'James',99)\")\n",
    "db.execute(\"insert into grades1(id,name,score) values(104,'cathy',99)\")\n",
    "db.execute(\"insert into grades1(id,name,score) values(105,'larry',99)\")"
   ]
  },
  {
   "cell_type": "code",
   "execution_count": 8,
   "metadata": {},
   "outputs": [],
   "source": [
    "db.commit()"
   ]
  },
  {
   "cell_type": "code",
   "execution_count": 13,
   "metadata": {},
   "outputs": [
    {
     "name": "stdout",
     "output_type": "stream",
     "text": [
      "<sqlite3.Cursor object at 0x000001D66AD33E30>\n",
      "____________________________________________________________\n"
     ]
    }
   ],
   "source": [
    "result=db.execute('select * from grades1 order by id')\n",
    "print(result)\n",
    "for row in result:\n",
    "    print(row)\n",
    "print(\"_\"*60)"
   ]
  },
  {
   "cell_type": "code",
   "execution_count": 14,
   "metadata": {},
   "outputs": [
    {
     "name": "stdout",
     "output_type": "stream",
     "text": [
      "<sqlite3.Cursor object at 0x000001D66AD33F80>\n",
      "____________________________________________________________\n"
     ]
    }
   ],
   "source": [
    "result=db.execute(\"Select * from grades1 where name='gary'\")\n",
    "print(result)\n",
    "for row in result:\n",
    "    print(row)\n",
    "print(\"_\"*60)"
   ]
  },
  {
   "cell_type": "code",
   "execution_count": 16,
   "metadata": {},
   "outputs": [
    {
     "name": "stdout",
     "output_type": "stream",
     "text": [
      "<sqlite3.Cursor object at 0x000001D66AD33E30>\n",
      "____________________________________________________________\n"
     ]
    }
   ],
   "source": [
    "result=db.execute(\"Select * from grades1 where score>90\")\n",
    "print(result)\n",
    "for row in result:\n",
    "    print(row)\n",
    "print(\"_\"*60)"
   ]
  },
  {
   "cell_type": "code",
   "execution_count": 18,
   "metadata": {},
   "outputs": [
    {
     "name": "stdout",
     "output_type": "stream",
     "text": [
      "<sqlite3.Cursor object at 0x000001D66AD33F80>\n",
      "____________________________________________________________\n"
     ]
    }
   ],
   "source": [
    "result=db.execute(\"Select name,score from grades1 order by score desc \")\n",
    "print(result)\n",
    "for row in result:\n",
    "    print(row)\n",
    "print(\"_\"*60)"
   ]
  },
  {
   "cell_type": "code",
   "execution_count": 19,
   "metadata": {},
   "outputs": [
    {
     "name": "stdout",
     "output_type": "stream",
     "text": [
      "<sqlite3.Cursor object at 0x000001D66AD33E30>\n",
      "____________________________________________________________\n"
     ]
    }
   ],
   "source": [
    "result=db.execute(\"Select name from grades1 order by score\")\n",
    "print(result)\n",
    "for row in result:\n",
    "    print(row)\n",
    "print(\"_\"*60)"
   ]
  },
  {
   "cell_type": "code",
   "execution_count": 20,
   "metadata": {},
   "outputs": [
    {
     "name": "stdout",
     "output_type": "stream",
     "text": [
      "<sqlite3.Cursor object at 0x000001D66AD33F80>\n",
      "____________________________________________________________\n"
     ]
    }
   ],
   "source": [
    "result=db.execute(\"Select score from grades1 order by score\")\n",
    "print(result)\n",
    "for row in result:\n",
    "    print(row)\n",
    "print(\"_\"*60)"
   ]
  },
  {
   "cell_type": "code",
   "execution_count": null,
   "metadata": {},
   "outputs": [],
   "source": []
  }
 ],
 "metadata": {
  "kernelspec": {
   "display_name": "Python 3",
   "language": "python",
   "name": "python3"
  },
  "language_info": {
   "codemirror_mode": {
    "name": "ipython",
    "version": 3
   },
   "file_extension": ".py",
   "mimetype": "text/x-python",
   "name": "python",
   "nbconvert_exporter": "python",
   "pygments_lexer": "ipython3",
   "version": "3.7.0"
  }
 },
 "nbformat": 4,
 "nbformat_minor": 2
}
